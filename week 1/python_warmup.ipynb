{
 "cells": [
  {
   "cell_type": "markdown",
   "metadata": {},
   "source": [
    "# Python Warmup\n",
    "\n",
    "1.create a list (list_a) with numbers from 1 to 10\n",
    "\n",
    "2.import the numpy library and calculate the mean of the first 5 items from the list_a\n",
    "\n",
    "3.create a list (list_b) with 10 random number in a range from 1 to 10\n",
    "\n",
    "4.identify how many elements are in the intersection between list_a and list_b\n",
    "\n",
    "5.create a function that defines if a number is 'even' or 'odd'\n",
    "\n",
    "6.create a list (list_c) that merges list_a and list_b\n",
    "\n",
    "7.organize the list_c into a dictionary according to whether the number is 'even' or 'odd'\n",
    "\n",
    "8.how many numbers are even and how many are odd"
   ]
  },
  {
   "cell_type": "code",
   "execution_count": 1,
   "metadata": {},
   "outputs": [
    {
     "name": "stdout",
     "output_type": "stream",
     "text": [
      "[1, 2, 3, 4, 5, 6, 7, 8, 9, 10]\n"
     ]
    }
   ],
   "source": [
    "# 1) create a list (list_a) with numbers from 1 to 10\n",
    "list_a = list(range(1,11))\n",
    "print(list_a)"
   ]
  },
  {
   "cell_type": "code",
   "execution_count": 2,
   "metadata": {},
   "outputs": [
    {
     "data": {
      "text/plain": [
       "3.0"
      ]
     },
     "execution_count": 2,
     "metadata": {},
     "output_type": "execute_result"
    }
   ],
   "source": [
    "# 2) import the numpy library and calculate the mean of the first 5 items from the list_a\n",
    "import numpy as np\n",
    "\n",
    "np.mean(list_a[:5])"
   ]
  },
  {
   "cell_type": "code",
   "execution_count": 3,
   "metadata": {},
   "outputs": [
    {
     "name": "stdout",
     "output_type": "stream",
     "text": [
      "[4, 2, 8, 6, 6, 9, 3, 4, 9, 7]\n"
     ]
    }
   ],
   "source": [
    "# 3) create a list (list_b) with 10 random number in a range from 1 to 10\n",
    "list_b = list(np.random.randint(1,11,10))\n",
    "print(list_b)"
   ]
  },
  {
   "cell_type": "code",
   "execution_count": 4,
   "metadata": {},
   "outputs": [
    {
     "name": "stdout",
     "output_type": "stream",
     "text": [
      "[3, 8, 7, 10, 2, 9, 1, 1, 7]\n"
     ]
    }
   ],
   "source": [
    "# alternative\n",
    "\n",
    "import random\n",
    "\n",
    "list = []\n",
    "\n",
    "for i in range(1,10):\n",
    "    x = random.randint(1,10)\n",
    "    list.append(x)\n",
    "\n",
    "print(list)"
   ]
  },
  {
   "cell_type": "code",
   "execution_count": 5,
   "metadata": {},
   "outputs": [
    {
     "name": "stdout",
     "output_type": "stream",
     "text": [
      "{1, 2, 3, 4, 5, 6, 7, 8, 9, 10}\n",
      "{2, 3, 4, 6, 7, 8, 9}\n",
      "intersection: {2, 3, 4, 6, 7, 8, 9}\n"
     ]
    }
   ],
   "source": [
    "# 4) identify how many elements are in the intersection between list_a and list_b\n",
    "print(set(list_a))\n",
    "print(set(list_b))\n",
    "print('intersection:', set(list_a) & set(list_b))"
   ]
  },
  {
   "cell_type": "code",
   "execution_count": 6,
   "metadata": {},
   "outputs": [
    {
     "name": "stdout",
     "output_type": "stream",
     "text": [
      "even\n"
     ]
    }
   ],
   "source": [
    "# 5) create a function that defines if a number is 'even' or 'odd'\n",
    "def even_or_odd(num):\n",
    "    if num % 2 == 0:\n",
    "        return 'even'\n",
    "    else:\n",
    "        return 'odd'\n",
    "    \n",
    "print(even_or_odd(10))"
   ]
  },
  {
   "cell_type": "code",
   "execution_count": 7,
   "metadata": {},
   "outputs": [
    {
     "name": "stdout",
     "output_type": "stream",
     "text": [
      "[1, 2, 3, 4, 5, 6, 7, 8, 9, 10, 4, 2, 8, 6, 6, 9, 3, 4, 9, 7]\n"
     ]
    }
   ],
   "source": [
    "# 6) create a list (list_c) that merges list_a and list_b\n",
    "list_c = list_a + list_b\n",
    "print(list_c)"
   ]
  },
  {
   "cell_type": "code",
   "execution_count": 8,
   "metadata": {},
   "outputs": [
    {
     "name": "stdout",
     "output_type": "stream",
     "text": [
      "{'even': [2, 4, 6, 8, 10, 4, 2, 8, 6, 6, 4], 'odd': [1, 3, 5, 7, 9, 9, 3, 9, 7]}\n"
     ]
    }
   ],
   "source": [
    "# 7) organize the list_c into a dictionary according to whether the number is 'even' or 'odd'\n",
    "list_c_dict = {}\n",
    "list_c_dict['even'] = []\n",
    "list_c_dict['odd'] = []\n",
    "\n",
    "for x in list_c:\n",
    "    n_type = even_or_odd(x)\n",
    "    list_c_dict[n_type].append(x)\n",
    "    \n",
    "print(list_c_dict)"
   ]
  },
  {
   "cell_type": "code",
   "execution_count": 9,
   "metadata": {},
   "outputs": [
    {
     "name": "stdout",
     "output_type": "stream",
     "text": [
      "even: 11\n",
      "odd: 9\n"
     ]
    }
   ],
   "source": [
    "# 8) how many numbers are even and how many are odd\n",
    "print('even:',len(list_c_dict['even']))\n",
    "print('odd:',len(list_c_dict['odd']))"
   ]
  }
 ],
 "metadata": {
  "kernelspec": {
   "display_name": "Python 3",
   "language": "python",
   "name": "python3"
  },
  "language_info": {
   "codemirror_mode": {
    "name": "ipython",
    "version": 3
   },
   "file_extension": ".py",
   "mimetype": "text/x-python",
   "name": "python",
   "nbconvert_exporter": "python",
   "pygments_lexer": "ipython3",
   "version": "3.6.5"
  }
 },
 "nbformat": 4,
 "nbformat_minor": 2
}
